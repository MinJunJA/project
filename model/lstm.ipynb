{
  "cells": [
    {
      "cell_type": "markdown",
      "metadata": {},
      "source": [
        "## 아기울음 소리 분류 모델: LSTM\n",
        "\n",
        "음성은 이미지와 달리 연속성을 가진다. 이에 시계열적 정보 추출에 특화된 LSTM 아키텍쳐를 가지는 모델을 설계하여 아기울음 소리 분류를 수행하고자 한다.\n",
        "\n",
        "본 문서는 아기울음 소리 원인 분류를 위해 LSTM 모델 정의 및 학습, 예측을 수행하는 내용을 담고 있다.\n",
        "\n",
        "> LSTM 모델의 정확도는 76%로 최종적으로 사용된 모델인 ResNet50보다 17% 낮은 정확도를 보인다.\n"
      ]
    },
    {
      "cell_type": "code",
      "execution_count": 2,
      "metadata": {
        "id": "xhDBdKKtaw-V"
      },
      "outputs": [],
      "source": [
        "# Load packages\n",
        "import os\n",
        "import sys\n",
        "import librosa\n",
        "import numpy as np\n",
        "import pandas as pd\n",
        "from tqdm import tqdm\n",
        "import tensorflow as tf\n",
        "import matplotlib.pyplot as plt\n",
        "\n",
        "from scipy.stats import skew\n",
        "from typing import Optional, Union\n",
        "from sklearn.model_selection import train_test_split\n",
        "from scipy.stats import kurtosis, median_abs_deviation"
      ]
    },
    {
      "cell_type": "code",
      "execution_count": null,
      "metadata": {},
      "outputs": [],
      "source": [
        "# 경로 설정\n",
        "main_path = '/Users/jaewone/developer/tensorflow/baby-cry-classification'\n",
        "data_path = os.path.join(main_path, 'data')\n",
        "csv_path = os.path.join(main_path, 'origin_data_info.csv')\n",
        "state_list = ['sad', 'hug', 'diaper', 'hungry',\n",
        "              'sleepy', 'awake', 'uncomfortable']\n",
        "\n",
        "sys.path.append(main_path)"
      ]
    },
    {
      "cell_type": "code",
      "execution_count": 4,
      "metadata": {
        "id": "pQiJRC8cegcy"
      },
      "outputs": [],
      "source": [
        "# Load custom packages\n",
        "from utils.os import *\n",
        "from utils.sound import *\n",
        "from trans_data.get_state_list import get_state_file_list"
      ]
    },
    {
      "cell_type": "code",
      "execution_count": 1,
      "metadata": {},
      "outputs": [],
      "source": [
        "# 파이퍼 파라미터\n",
        "\n",
        "# 모델의 Epochs\n",
        "EPOCHS = 400"
      ]
    },
    {
      "cell_type": "code",
      "execution_count": 6,
      "metadata": {
        "id": "Nxf6mKLLv-2G"
      },
      "outputs": [],
      "source": [
        "def get_mfcc(file_path,\n",
        "             sampling_freq=16000,\n",
        "             mfcc_coef=40,\n",
        "             mfcc_coef_retain=25,\n",
        "             mfcc_window_duration=0.0232):\n",
        "    \"\"\"\n",
        "    오디오 파일에 대한 MFCC를 분석한 뒤 값을 반환한다.\n",
        "\n",
        "    Parameters:\n",
        "        file_path:            오디오 파일의 경로\n",
        "        sampling_freq:        sampling rate\n",
        "        mfcc_coef:            frame의 길이를 결정하는 파라미터.\n",
        "        mfcc_coef_retain:     유지되는 MFCC 값의 길이\n",
        "        mfcc_window_duration: 데이터를 읽을 때 겹쳐 읽는 길이(sec)\n",
        "\n",
        "    Returns:\n",
        "        list[0]: 초반 mfcc_coef_retain 만큼의 MFCC 값\n",
        "        list[1]: 평균, 분산, 표준편차와 같은 MFCC의 특성값\n",
        "    \"\"\"\n",
        "\n",
        "    # load wav file and normalize\n",
        "    wave, sr = librosa.load(file_path, mono=True, sr=sampling_freq)\n",
        "    wave = librosa.util.normalize(wave)\n",
        "\n",
        "    # feature extraction\n",
        "    mfccs = librosa.feature.mfcc(y=wave, sr=sr, n_mfcc=mfcc_coef, hop_length=int(\n",
        "        mfcc_window_duration*sr/2.0), n_fft=int(mfcc_window_duration*sr))\n",
        "\n",
        "    # 정규화: 평균이 0, 표준편차 1\n",
        "    mfccs = (mfccs - np.mean(mfccs))/np.std(mfccs)\n",
        "\n",
        "    # keep the first mfcc_coef_retain coefficients\n",
        "    mfccs = mfccs[:mfcc_coef_retain, :]\n",
        "\n",
        "    # calculate MFCC statistics\n",
        "    mfccs_min = mfccs.min(axis=1)\n",
        "    mfccs_max = mfccs.max(axis=1)\n",
        "    mfccs_median = np.median(mfccs, axis=1)\n",
        "    mfccs_mean = np.mean(mfccs, axis=1)\n",
        "    mfccs_var = np.var(mfccs, axis=1)\n",
        "    mfccs_skewness = skew(mfccs, axis=1)\n",
        "    mfccs_kurtosis = kurtosis(mfccs, axis=1)\n",
        "    mfccs_mad = median_abs_deviation(mfccs, axis=1)\n",
        "\n",
        "    mfccs_first_derivative = np.diff(mfccs, n=1, axis=1)\n",
        "    mfccs_first_derivative_mean = np.mean(mfccs_first_derivative, axis=1)\n",
        "    mfccs_first_derivative_var = np.var(mfccs_first_derivative, axis=1)\n",
        "\n",
        "    mfccs_second_derivative = np.diff(mfccs, n=2, axis=1)\n",
        "    mfccs_second_derivative_mean = np.mean(mfccs_second_derivative, axis=1)\n",
        "    mfccs_second_derivative_var = np.var(mfccs_second_derivative, axis=1)\n",
        "\n",
        "    mfccs_stats = np.vstack((mfccs_min, mfccs_max, mfccs_median, mfccs_mean, mfccs_var, mfccs_skewness, mfccs_kurtosis, mfccs_mad,\n",
        "                            mfccs_first_derivative_mean, mfccs_first_derivative_var, mfccs_second_derivative_mean, mfccs_second_derivative_var))\n",
        "\n",
        "    return pd.Series([mfccs, mfccs_stats.transpose()])"
      ]
    },
    {
      "cell_type": "markdown",
      "metadata": {},
      "source": [
        "### 각각의 파일을 불러와 DataFrame으로 변환한다.\n"
      ]
    },
    {
      "cell_type": "code",
      "execution_count": 9,
      "metadata": {
        "colab": {
          "base_uri": "https://localhost:8080/",
          "height": 143
        },
        "id": "FgsYhMY6fZEd",
        "outputId": "ea505be0-f8dc-4284-ffeb-3aadc2e383fb"
      },
      "outputs": [
        {
          "data": {
            "text/html": [
              "\n",
              "  <div id=\"df-7212ad71-0860-4a66-b01c-1ba3c6b0c29b\" class=\"colab-df-container\">\n",
              "    <div>\n",
              "<style scoped>\n",
              "    .dataframe tbody tr th:only-of-type {\n",
              "        vertical-align: middle;\n",
              "    }\n",
              "\n",
              "    .dataframe tbody tr th {\n",
              "        vertical-align: top;\n",
              "    }\n",
              "\n",
              "    .dataframe thead th {\n",
              "        text-align: right;\n",
              "    }\n",
              "</style>\n",
              "<table border=\"1\" class=\"dataframe\">\n",
              "  <thead>\n",
              "    <tr style=\"text-align: right;\">\n",
              "      <th></th>\n",
              "      <th>file</th>\n",
              "      <th>duration</th>\n",
              "      <th>state</th>\n",
              "    </tr>\n",
              "  </thead>\n",
              "  <tbody>\n",
              "    <tr>\n",
              "      <th>10938</th>\n",
              "      <td>uncomfortable_135.wav</td>\n",
              "      <td>2.0</td>\n",
              "      <td>uncomfortable</td>\n",
              "    </tr>\n",
              "    <tr>\n",
              "      <th>10939</th>\n",
              "      <td>uncomfortable_121.wav</td>\n",
              "      <td>2.0</td>\n",
              "      <td>uncomfortable</td>\n",
              "    </tr>\n",
              "    <tr>\n",
              "      <th>10940</th>\n",
              "      <td>uncomfortable_647.wav</td>\n",
              "      <td>2.0</td>\n",
              "      <td>uncomfortable</td>\n",
              "    </tr>\n",
              "  </tbody>\n",
              "</table>\n",
              "</div>\n",
              "    <div class=\"colab-df-buttons\">\n",
              "\n",
              "  <div class=\"colab-df-container\">\n",
              "    <button class=\"colab-df-convert\" onclick=\"convertToInteractive('df-7212ad71-0860-4a66-b01c-1ba3c6b0c29b')\"\n",
              "            title=\"Convert this dataframe to an interactive table.\"\n",
              "            style=\"display:none;\">\n",
              "\n",
              "  <svg xmlns=\"http://www.w3.org/2000/svg\" height=\"24px\" viewBox=\"0 -960 960 960\">\n",
              "    <path d=\"M120-120v-720h720v720H120Zm60-500h600v-160H180v160Zm220 220h160v-160H400v160Zm0 220h160v-160H400v160ZM180-400h160v-160H180v160Zm440 0h160v-160H620v160ZM180-180h160v-160H180v160Zm440 0h160v-160H620v160Z\"/>\n",
              "  </svg>\n",
              "    </button>\n",
              "\n",
              "  <style>\n",
              "    .colab-df-container {\n",
              "      display:flex;\n",
              "      gap: 12px;\n",
              "    }\n",
              "\n",
              "    .colab-df-convert {\n",
              "      background-color: #E8F0FE;\n",
              "      border: none;\n",
              "      border-radius: 50%;\n",
              "      cursor: pointer;\n",
              "      display: none;\n",
              "      fill: #1967D2;\n",
              "      height: 32px;\n",
              "      padding: 0 0 0 0;\n",
              "      width: 32px;\n",
              "    }\n",
              "\n",
              "    .colab-df-convert:hover {\n",
              "      background-color: #E2EBFA;\n",
              "      box-shadow: 0px 1px 2px rgba(60, 64, 67, 0.3), 0px 1px 3px 1px rgba(60, 64, 67, 0.15);\n",
              "      fill: #174EA6;\n",
              "    }\n",
              "\n",
              "    .colab-df-buttons div {\n",
              "      margin-bottom: 4px;\n",
              "    }\n",
              "\n",
              "    [theme=dark] .colab-df-convert {\n",
              "      background-color: #3B4455;\n",
              "      fill: #D2E3FC;\n",
              "    }\n",
              "\n",
              "    [theme=dark] .colab-df-convert:hover {\n",
              "      background-color: #434B5C;\n",
              "      box-shadow: 0px 1px 3px 1px rgba(0, 0, 0, 0.15);\n",
              "      filter: drop-shadow(0px 1px 2px rgba(0, 0, 0, 0.3));\n",
              "      fill: #FFFFFF;\n",
              "    }\n",
              "  </style>\n",
              "\n",
              "    <script>\n",
              "      const buttonEl =\n",
              "        document.querySelector('#df-7212ad71-0860-4a66-b01c-1ba3c6b0c29b button.colab-df-convert');\n",
              "      buttonEl.style.display =\n",
              "        google.colab.kernel.accessAllowed ? 'block' : 'none';\n",
              "\n",
              "      async function convertToInteractive(key) {\n",
              "        const element = document.querySelector('#df-7212ad71-0860-4a66-b01c-1ba3c6b0c29b');\n",
              "        const dataTable =\n",
              "          await google.colab.kernel.invokeFunction('convertToInteractive',\n",
              "                                                    [key], {});\n",
              "        if (!dataTable) return;\n",
              "\n",
              "        const docLinkHtml = 'Like what you see? Visit the ' +\n",
              "          '<a target=\"_blank\" href=https://colab.research.google.com/notebooks/data_table.ipynb>data table notebook</a>'\n",
              "          + ' to learn more about interactive tables.';\n",
              "        element.innerHTML = '';\n",
              "        dataTable['output_type'] = 'display_data';\n",
              "        await google.colab.output.renderOutput(dataTable, element);\n",
              "        const docLink = document.createElement('div');\n",
              "        docLink.innerHTML = docLinkHtml;\n",
              "        element.appendChild(docLink);\n",
              "      }\n",
              "    </script>\n",
              "  </div>\n",
              "\n",
              "\n",
              "<div id=\"df-4118b89f-ae3d-4764-982c-9a170cc79002\">\n",
              "  <button class=\"colab-df-quickchart\" onclick=\"quickchart('df-4118b89f-ae3d-4764-982c-9a170cc79002')\"\n",
              "            title=\"Suggest charts.\"\n",
              "            style=\"display:none;\">\n",
              "\n",
              "<svg xmlns=\"http://www.w3.org/2000/svg\" height=\"24px\"viewBox=\"0 0 24 24\"\n",
              "     width=\"24px\">\n",
              "    <g>\n",
              "        <path d=\"M19 3H5c-1.1 0-2 .9-2 2v14c0 1.1.9 2 2 2h14c1.1 0 2-.9 2-2V5c0-1.1-.9-2-2-2zM9 17H7v-7h2v7zm4 0h-2V7h2v10zm4 0h-2v-4h2v4z\"/>\n",
              "    </g>\n",
              "</svg>\n",
              "  </button>\n",
              "\n",
              "<style>\n",
              "  .colab-df-quickchart {\n",
              "    background-color: #E8F0FE;\n",
              "    border: none;\n",
              "    border-radius: 50%;\n",
              "    cursor: pointer;\n",
              "    display: none;\n",
              "    fill: #1967D2;\n",
              "    height: 32px;\n",
              "    padding: 0 0 0 0;\n",
              "    width: 32px;\n",
              "  }\n",
              "\n",
              "  .colab-df-quickchart:hover {\n",
              "    background-color: #E2EBFA;\n",
              "    box-shadow: 0px 1px 2px rgba(60, 64, 67, 0.3), 0px 1px 3px 1px rgba(60, 64, 67, 0.15);\n",
              "    fill: #174EA6;\n",
              "  }\n",
              "\n",
              "  [theme=dark] .colab-df-quickchart {\n",
              "    background-color: #3B4455;\n",
              "    fill: #D2E3FC;\n",
              "  }\n",
              "\n",
              "  [theme=dark] .colab-df-quickchart:hover {\n",
              "    background-color: #434B5C;\n",
              "    box-shadow: 0px 1px 3px 1px rgba(0, 0, 0, 0.15);\n",
              "    filter: drop-shadow(0px 1px 2px rgba(0, 0, 0, 0.3));\n",
              "    fill: #FFFFFF;\n",
              "  }\n",
              "</style>\n",
              "\n",
              "  <script>\n",
              "    async function quickchart(key) {\n",
              "      const charts = await google.colab.kernel.invokeFunction(\n",
              "          'suggestCharts', [key], {});\n",
              "    }\n",
              "    (() => {\n",
              "      let quickchartButtonEl =\n",
              "        document.querySelector('#df-4118b89f-ae3d-4764-982c-9a170cc79002 button');\n",
              "      quickchartButtonEl.style.display =\n",
              "        google.colab.kernel.accessAllowed ? 'block' : 'none';\n",
              "    })();\n",
              "  </script>\n",
              "</div>\n",
              "    </div>\n",
              "  </div>\n"
            ],
            "text/plain": [
              "                        file  duration          state\n",
              "10938  uncomfortable_135.wav       2.0  uncomfortable\n",
              "10939  uncomfortable_121.wav       2.0  uncomfortable\n",
              "10940  uncomfortable_647.wav       2.0  uncomfortable"
            ]
          },
          "execution_count": 9,
          "metadata": {},
          "output_type": "execute_result"
        }
      ],
      "source": [
        "file_list = get_state_file_list(data_path)\n",
        "\n",
        "df = pd.DataFrame({'file': file_list})\n",
        "df['duration'] = df['file'].apply(lambda file: get_duration(file))\n",
        "df['file'] = df['file'].apply(lambda file: file.rsplit('/', 1)[1])\n",
        "df['state'] = df['file'].apply(\n",
        "    lambda file: file.split('_', 1)[0]).astype('category')\n",
        "df.tail(3)"
      ]
    },
    {
      "cell_type": "markdown",
      "metadata": {},
      "source": [
        "### 각각의 음성에서 MFCC값을 추출한다.\n"
      ]
    },
    {
      "cell_type": "code",
      "execution_count": 11,
      "metadata": {
        "colab": {
          "base_uri": "https://localhost:8080/"
        },
        "id": "A5L_yelVwFQs",
        "outputId": "9cb69116-0801-4c0f-db33-531abb9325a5"
      },
      "outputs": [
        {
          "name": "stderr",
          "output_type": "stream",
          "text": [
            "100%|██████████| 10941/10941 [42:16<00:00,  4.31it/s]"
          ]
        },
        {
          "name": "stdout",
          "output_type": "stream",
          "text": [
            "<class 'pandas.core.frame.DataFrame'>\n",
            "Int64Index: 10941 entries, 0 to 10940\n",
            "Data columns (total 6 columns):\n",
            " #   Column       Non-Null Count  Dtype   \n",
            "---  ------       --------------  -----   \n",
            " 0   file         10941 non-null  object  \n",
            " 1   duration     10941 non-null  float64 \n",
            " 2   state        10941 non-null  category\n",
            " 3   mfccs        10941 non-null  object  \n",
            " 4   mfccs_stats  10941 non-null  object  \n",
            " 5   state_code   10941 non-null  int8    \n",
            "dtypes: category(1), float64(1), int8(1), object(3)\n",
            "memory usage: 449.1+ KB\n"
          ]
        },
        {
          "name": "stderr",
          "output_type": "stream",
          "text": [
            "\n"
          ]
        }
      ],
      "source": [
        "# Get MFCC data\n",
        "tqdm.pandas()\n",
        "df[['mfccs', 'mfccs_stats']] = df.progress_apply(lambda x: get_mfcc(\n",
        "    os.path.join(data_path, x['state'], x['file'])), axis=1)\n",
        "\n",
        "# state 열을 카테고리 타입으로 변환한 다음 int 형태로 캐스팅한다.\n",
        "df.state = df.state.astype('category')\n",
        "df = df.assign(state_code=df.state.cat.codes)\n",
        "df.info()"
      ]
    },
    {
      "cell_type": "markdown",
      "metadata": {},
      "source": [
        "### 추출된 MFCC를 이용하여 모델 학습을 수행한다.\n"
      ]
    },
    {
      "cell_type": "code",
      "execution_count": 24,
      "metadata": {
        "colab": {
          "base_uri": "https://localhost:8080/"
        },
        "id": "Tw-i0R-xaw-f",
        "outputId": "1b63d374-b01e-43f7-9a49-4029b151560f"
      },
      "outputs": [
        {
          "name": "stdout",
          "output_type": "stream",
          "text": [
            "44/44 [==============================] - 0s 4ms/step - loss: 1.7666 - sparse_categorical_accuracy: 0.7630\n"
          ]
        }
      ],
      "source": [
        "def split_xy(df: pd.DataFrame):\n",
        "    \"\"\"\n",
        "    추출된 MFCC는 독립변수인 x로 구성하며 state(상태)인 state_code는 종속변수 y로 구성하여 반환한다.\n",
        "    \"\"\"\n",
        "    x = np.array(df['mfccs_stats'].to_list())\n",
        "    x = x.reshape(x.shape[0], x.shape[1], x.shape[2])\n",
        "\n",
        "    y = np.array(df['state_code'].to_list())\n",
        "    y = y.reshape(y.shape[0], 1)\n",
        "\n",
        "    return x, y\n",
        "\n",
        "\n",
        "def get_lstm_model(num_classes):\n",
        "    \"\"\"\n",
        "    LSTM 모델을 불러온다.\n",
        "    \"\"\"\n",
        "    model = tf.keras.Sequential([\n",
        "        tf.keras.layers.LSTM(256, return_sequences=True),  # 첫 번째 LSTM 레이어\n",
        "        tf.keras.layers.BatchNormalization(),\n",
        "        tf.keras.layers.Dropout(0.2),\n",
        "\n",
        "        tf.keras.layers.LSTM(128, return_sequences=False),  # 두 번째 LSTM 레이어\n",
        "        tf.keras.layers.BatchNormalization(),\n",
        "        tf.keras.layers.Dropout(0.2),\n",
        "\n",
        "        tf.keras.layers.Dense(num_classes, activation='softmax')\n",
        "    ])\n",
        "\n",
        "    model.compile(optimizer=tf.keras.optimizers.Adam(), loss='sparse_categorical_crossentropy', metrics=[\n",
        "                  'sparse_categorical_accuracy'])\n",
        "\n",
        "    return model\n",
        "\n",
        "\n",
        "train, val = train_test_split(df, test_size=0.2)\n",
        "train, test = train_test_split(train, test_size=0.16)\n",
        "\n",
        "X_train, Y_train = split_xy(train)\n",
        "X_val, Y_val = split_xy(val)\n",
        "X_test, Y_test = split_xy(test)\n",
        "\n",
        "lstm_model = get_lstm_model(num_classes=10)\n",
        "\n",
        "history = lstm_model.fit(X_train, Y_train, batch_size=128, epochs=EPOCHS, validation_data=(\n",
        "    X_val, Y_val), callbacks=[], verbose=0)\n",
        "\n",
        "accuracy_score = lstm_model.evaluate(X_test, Y_test)"
      ]
    },
    {
      "cell_type": "markdown",
      "metadata": {},
      "source": [
        "### Epochs에 따른 모델 학습 정확도와 검증 정확도를 시각적으로 확인한다.\n"
      ]
    },
    {
      "cell_type": "code",
      "execution_count": 27,
      "metadata": {
        "colab": {
          "base_uri": "https://localhost:8080/",
          "height": 472
        },
        "id": "CYu2Qa4rldvM",
        "outputId": "3fa030da-1f38-48fe-c122-b0d0d37ed579"
      },
      "outputs": [
        {
          "data": {
            "image/png": "[encoded data removed]",
            "text/plain": [
              "<Figure size 640x480 with 1 Axes>"
            ]
          },
          "metadata": {},
          "output_type": "display_data"
        }
      ],
      "source": [
        "plt.plot(history.history['sparse_categorical_accuracy'],\n",
        "         label='training', color='pink')\n",
        "plt.plot(history.history['val_sparse_categorical_accuracy'],\n",
        "         label='validation', color='mediumpurple')  # 검증 데이터 정확도 추가\n",
        "plt.legend(['training', 'validation'])\n",
        "plt.title('Accuracy')\n",
        "plt.xlabel('Epochs')\n",
        "plt.ylabel('Accuracy')\n",
        "plt.show()"
      ]
    },
    {
      "cell_type": "markdown",
      "metadata": {},
      "source": [
        "### Test 데이터셋을 통해 모델의 예측 정확도를 도출한다.\n"
      ]
    },
    {
      "cell_type": "code",
      "execution_count": 28,
      "metadata": {
        "colab": {
          "base_uri": "https://localhost:8080/"
        },
        "id": "DJ_4Tuiiaw-f",
        "outputId": "c03516d6-0373-42c0-ae63-6368d2975707"
      },
      "outputs": [
        {
          "name": "stdout",
          "output_type": "stream",
          "text": [
            "44/44 [==============================] - 1s 3ms/step\n",
            "              precision    recall  f1-score   support\n",
            "\n",
            "           0       0.70      0.70      0.70       238\n",
            "           1       0.60      0.76      0.67       166\n",
            "           2       0.82      0.67      0.74       199\n",
            "           3       0.74      0.79      0.76       185\n",
            "           4       0.97      0.87      0.92       217\n",
            "           5       0.73      0.79      0.76       197\n",
            "           6       0.83      0.77      0.80       199\n",
            "\n",
            "    accuracy                           0.76      1401\n",
            "   macro avg       0.77      0.76      0.76      1401\n",
            "weighted avg       0.77      0.76      0.77      1401\n",
            "\n"
          ]
        }
      ],
      "source": [
        "from sklearn.metrics import classification_report\n",
        "lstm_test_preds = lstm_model.predict(X_test)\n",
        "lstm_test_pred_classes = np.argmax(lstm_test_preds, axis=1)\n",
        "\n",
        "print(classification_report(Y_test, lstm_test_pred_classes))"
      ]
    }
  ],
  "metadata": {
    "accelerator": "GPU",
    "colab": {
      "gpuType": "T4",
      "provenance": []
    },
    "kernelspec": {
      "display_name": "Python 3",
      "name": "python3"
    },
    "language_info": {
      "codemirror_mode": {
        "name": "ipython",
        "version": 3
      },
      "file_extension": ".py",
      "mimetype": "text/x-python",
      "name": "python",
      "nbconvert_exporter": "python",
      "pygments_lexer": "ipython3",
      "version": "3.9.0"
    },
    "orig_nbformat": 4
  },
  "nbformat": 4,
  "nbformat_minor": 0
}
