{
 "cells": [
  {
   "cell_type": "markdown",
   "metadata": {},
   "source": [
    "## 수집된 데이터 확인\n",
    "\n",
    "본 문서는 각 기관에서 수집된 데이터를 시각적으로 확인하는 과정을 요약하였다.\n"
   ]
  },
  {
   "cell_type": "code",
   "execution_count": 5,
   "metadata": {},
   "outputs": [],
   "source": [
    "# Load Packages\n",
    "import matplotlib.pyplot as plt\n",
    "import seaborn as sns\n",
    "import pandas as pd\n",
    "import numpy as np\n",
    "import math\n",
    "import os"
   ]
  },
  {
   "cell_type": "code",
   "execution_count": 6,
   "metadata": {},
   "outputs": [],
   "source": [
    "# Set Path\n",
    "import sys\n",
    "main_path = os.path.join(os.getcwd().rsplit(\n",
    "    'baby-cry-classification')[0], 'baby-cry-classification')\n",
    "data_path = os.path.join(main_path, 'data')\n",
    "csv_path = os.path.join(main_path, 'origin_data_info.csv')\n",
    "\n",
    "sys.path.append(main_path)"
   ]
  },
  {
   "cell_type": "code",
   "execution_count": 7,
   "metadata": {},
   "outputs": [],
   "source": [
    "# Load custom package\n",
    "from utils.os import *\n",
    "from utils.sound import *"
   ]
  },
  {
   "cell_type": "code",
   "execution_count": null,
   "metadata": {},
   "outputs": [
    {
     "name": "stdout",
     "output_type": "stream",
     "text": [
      "<class 'pandas.core.frame.DataFrame'>\n",
      "Int64Index: 3688 entries, 0 to 3687\n",
      "Data columns (total 7 columns):\n",
      " #   Column    Non-Null Count  Dtype   \n",
      "---  ------    --------------  -----   \n",
      " 0   state     3688 non-null   category\n",
      " 1   gender    1796 non-null   category\n",
      " 2   age       457 non-null    category\n",
      " 3   source    3688 non-null   category\n",
      " 4   file      3688 non-null   object  \n",
      " 5   detail    1208 non-null   object  \n",
      " 6   duration  3688 non-null   float64 \n",
      "dtypes: category(4), float64(1), object(2)\n",
      "memory usage: 130.9+ KB\n"
     ]
    },
    {
     "data": {
      "text/html": [
       "<div>\n",
       "<style scoped>\n",
       "    .dataframe tbody tr th:only-of-type {\n",
       "        vertical-align: middle;\n",
       "    }\n",
       "\n",
       "    .dataframe tbody tr th {\n",
       "        vertical-align: top;\n",
       "    }\n",
       "\n",
       "    .dataframe thead th {\n",
       "        text-align: right;\n",
       "    }\n",
       "</style>\n",
       "<table border=\"1\" class=\"dataframe\">\n",
       "  <thead>\n",
       "    <tr style=\"text-align: right;\">\n",
       "      <th></th>\n",
       "      <th>state</th>\n",
       "      <th>gender</th>\n",
       "      <th>age</th>\n",
       "      <th>source</th>\n",
       "      <th>file</th>\n",
       "      <th>detail</th>\n",
       "      <th>duration</th>\n",
       "    </tr>\n",
       "  </thead>\n",
       "  <tbody>\n",
       "    <tr>\n",
       "      <th>3685</th>\n",
       "      <td>uncomfortable</td>\n",
       "      <td>NaN</td>\n",
       "      <td>NaN</td>\n",
       "      <td>iFLYTEK</td>\n",
       "      <td>uncomfortable_109.wav</td>\n",
       "      <td>NaN</td>\n",
       "      <td>16.782222</td>\n",
       "    </tr>\n",
       "    <tr>\n",
       "      <th>3686</th>\n",
       "      <td>uncomfortable</td>\n",
       "      <td>NaN</td>\n",
       "      <td>NaN</td>\n",
       "      <td>iFLYTEK</td>\n",
       "      <td>uncomfortable_135.wav</td>\n",
       "      <td>NaN</td>\n",
       "      <td>13.100567</td>\n",
       "    </tr>\n",
       "    <tr>\n",
       "      <th>3687</th>\n",
       "      <td>uncomfortable</td>\n",
       "      <td>NaN</td>\n",
       "      <td>NaN</td>\n",
       "      <td>iFLYTEK</td>\n",
       "      <td>uncomfortable_121.wav</td>\n",
       "      <td>NaN</td>\n",
       "      <td>15.530000</td>\n",
       "    </tr>\n",
       "  </tbody>\n",
       "</table>\n",
       "</div>"
      ],
      "text/plain": [
       "              state gender age   source                   file detail  \\\n",
       "3685  uncomfortable    NaN NaN  iFLYTEK  uncomfortable_109.wav    NaN   \n",
       "3686  uncomfortable    NaN NaN  iFLYTEK  uncomfortable_135.wav    NaN   \n",
       "3687  uncomfortable    NaN NaN  iFLYTEK  uncomfortable_121.wav    NaN   \n",
       "\n",
       "       duration  \n",
       "3685  16.782222  \n",
       "3686  13.100567  \n",
       "3687  15.530000  "
      ]
     },
     "execution_count": 62,
     "metadata": {},
     "output_type": "execute_result"
    }
   ],
   "source": [
    "# Read csv\n",
    "df = pd.read_csv(csv_path, index_col=0)\n",
    "df.state = df.state.astype('category')\n",
    "df.gender = df.gender.astype('category')\n",
    "df.age = df.age.astype('category')\n",
    "df.source = df.source.astype('category')\n",
    "\n",
    "df.info()\n",
    "df.tail(3)"
   ]
  },
  {
   "cell_type": "markdown",
   "metadata": {},
   "source": [
    "### Data Overview\n"
   ]
  },
  {
   "cell_type": "code",
   "execution_count": null,
   "metadata": {},
   "outputs": [
    {
     "name": "stdout",
     "output_type": "stream",
     "text": [
      "float values\n"
     ]
    },
    {
     "data": {
      "text/html": [
       "<div>\n",
       "<style scoped>\n",
       "    .dataframe tbody tr th:only-of-type {\n",
       "        vertical-align: middle;\n",
       "    }\n",
       "\n",
       "    .dataframe tbody tr th {\n",
       "        vertical-align: top;\n",
       "    }\n",
       "\n",
       "    .dataframe thead th {\n",
       "        text-align: right;\n",
       "    }\n",
       "</style>\n",
       "<table border=\"1\" class=\"dataframe\">\n",
       "  <thead>\n",
       "    <tr style=\"text-align: right;\">\n",
       "      <th></th>\n",
       "      <th>count</th>\n",
       "      <th>mean</th>\n",
       "      <th>std</th>\n",
       "      <th>min</th>\n",
       "      <th>25%</th>\n",
       "      <th>50%</th>\n",
       "      <th>75%</th>\n",
       "      <th>max</th>\n",
       "    </tr>\n",
       "  </thead>\n",
       "  <tbody>\n",
       "    <tr>\n",
       "      <th>duration</th>\n",
       "      <td>3688.0</td>\n",
       "      <td>11.204448</td>\n",
       "      <td>5.290027</td>\n",
       "      <td>0.522437</td>\n",
       "      <td>7.0</td>\n",
       "      <td>10.0</td>\n",
       "      <td>14.0</td>\n",
       "      <td>86.387375</td>\n",
       "    </tr>\n",
       "  </tbody>\n",
       "</table>\n",
       "</div>"
      ],
      "text/plain": [
       "           count       mean       std       min  25%   50%   75%        max\n",
       "duration  3688.0  11.204448  5.290027  0.522437  7.0  10.0  14.0  86.387375"
      ]
     },
     "execution_count": 63,
     "metadata": {},
     "output_type": "execute_result"
    }
   ],
   "source": [
    "print('float values')\n",
    "df.describe().T"
   ]
  },
  {
   "cell_type": "code",
   "execution_count": null,
   "metadata": {},
   "outputs": [
    {
     "name": "stdout",
     "output_type": "stream",
     "text": [
      "string values\n"
     ]
    },
    {
     "data": {
      "text/html": [
       "<div>\n",
       "<style scoped>\n",
       "    .dataframe tbody tr th:only-of-type {\n",
       "        vertical-align: middle;\n",
       "    }\n",
       "\n",
       "    .dataframe tbody tr th {\n",
       "        vertical-align: top;\n",
       "    }\n",
       "\n",
       "    .dataframe thead th {\n",
       "        text-align: right;\n",
       "    }\n",
       "</style>\n",
       "<table border=\"1\" class=\"dataframe\">\n",
       "  <thead>\n",
       "    <tr style=\"text-align: right;\">\n",
       "      <th></th>\n",
       "      <th>count</th>\n",
       "      <th>unique</th>\n",
       "      <th>top</th>\n",
       "      <th>freq</th>\n",
       "    </tr>\n",
       "  </thead>\n",
       "  <tbody>\n",
       "    <tr>\n",
       "      <th>file</th>\n",
       "      <td>3688</td>\n",
       "      <td>3688</td>\n",
       "      <td>999bf14b-e417-4b44-b746-9253f81efe38-143097400...</td>\n",
       "      <td>1</td>\n",
       "    </tr>\n",
       "    <tr>\n",
       "      <th>detail</th>\n",
       "      <td>1208</td>\n",
       "      <td>11</td>\n",
       "      <td>sad</td>\n",
       "      <td>1052</td>\n",
       "    </tr>\n",
       "  </tbody>\n",
       "</table>\n",
       "</div>"
      ],
      "text/plain": [
       "       count unique                                                top  freq\n",
       "file    3688   3688  999bf14b-e417-4b44-b746-9253f81efe38-143097400...     1\n",
       "detail  1208     11                                                sad  1052"
      ]
     },
     "execution_count": 64,
     "metadata": {},
     "output_type": "execute_result"
    }
   ],
   "source": [
    "print('string values')\n",
    "df.describe(include='O').T"
   ]
  },
  {
   "cell_type": "code",
   "execution_count": null,
   "metadata": {},
   "outputs": [
    {
     "name": "stdout",
     "output_type": "stream",
     "text": [
      "category values\n"
     ]
    },
    {
     "data": {
      "text/html": [
       "<div>\n",
       "<style scoped>\n",
       "    .dataframe tbody tr th:only-of-type {\n",
       "        vertical-align: middle;\n",
       "    }\n",
       "\n",
       "    .dataframe tbody tr th {\n",
       "        vertical-align: top;\n",
       "    }\n",
       "\n",
       "    .dataframe thead th {\n",
       "        text-align: right;\n",
       "    }\n",
       "</style>\n",
       "<table border=\"1\" class=\"dataframe\">\n",
       "  <thead>\n",
       "    <tr style=\"text-align: right;\">\n",
       "      <th></th>\n",
       "      <th>count</th>\n",
       "      <th>unique</th>\n",
       "      <th>top</th>\n",
       "      <th>freq</th>\n",
       "    </tr>\n",
       "  </thead>\n",
       "  <tbody>\n",
       "    <tr>\n",
       "      <th>state</th>\n",
       "      <td>3688</td>\n",
       "      <td>19</td>\n",
       "      <td>sad</td>\n",
       "      <td>1180</td>\n",
       "    </tr>\n",
       "    <tr>\n",
       "      <th>gender</th>\n",
       "      <td>1796</td>\n",
       "      <td>2</td>\n",
       "      <td>m</td>\n",
       "      <td>1615</td>\n",
       "    </tr>\n",
       "    <tr>\n",
       "      <th>age</th>\n",
       "      <td>457.0</td>\n",
       "      <td>5.0</td>\n",
       "      <td>26.0</td>\n",
       "      <td>162.0</td>\n",
       "    </tr>\n",
       "    <tr>\n",
       "      <th>source</th>\n",
       "      <td>3688</td>\n",
       "      <td>5</td>\n",
       "      <td>asvp-esd</td>\n",
       "      <td>1339</td>\n",
       "    </tr>\n",
       "  </tbody>\n",
       "</table>\n",
       "</div>"
      ],
      "text/plain": [
       "        count unique       top   freq\n",
       "state    3688     19       sad   1180\n",
       "gender   1796      2         m   1615\n",
       "age     457.0    5.0      26.0  162.0\n",
       "source   3688      5  asvp-esd   1339"
      ]
     },
     "execution_count": 65,
     "metadata": {},
     "output_type": "execute_result"
    }
   ],
   "source": [
    "print('category values')\n",
    "df.describe(include='category').T"
   ]
  },
  {
   "cell_type": "code",
   "execution_count": null,
   "metadata": {},
   "outputs": [
    {
     "name": "stdout",
     "output_type": "stream",
     "text": [
      "category values\n"
     ]
    },
    {
     "data": {
      "text/html": [
       "<div>\n",
       "<style scoped>\n",
       "    .dataframe tbody tr th:only-of-type {\n",
       "        vertical-align: middle;\n",
       "    }\n",
       "\n",
       "    .dataframe tbody tr th {\n",
       "        vertical-align: top;\n",
       "    }\n",
       "\n",
       "    .dataframe thead th {\n",
       "        text-align: right;\n",
       "    }\n",
       "</style>\n",
       "<table border=\"1\" class=\"dataframe\">\n",
       "  <thead>\n",
       "    <tr style=\"text-align: right;\">\n",
       "      <th></th>\n",
       "      <th>state</th>\n",
       "      <th>gender</th>\n",
       "      <th>age</th>\n",
       "      <th>source</th>\n",
       "    </tr>\n",
       "  </thead>\n",
       "  <tbody>\n",
       "    <tr>\n",
       "      <th>count</th>\n",
       "      <td>3688</td>\n",
       "      <td>1796</td>\n",
       "      <td>457.0</td>\n",
       "      <td>3688</td>\n",
       "    </tr>\n",
       "    <tr>\n",
       "      <th>unique</th>\n",
       "      <td>19</td>\n",
       "      <td>2</td>\n",
       "      <td>5.0</td>\n",
       "      <td>5</td>\n",
       "    </tr>\n",
       "    <tr>\n",
       "      <th>top</th>\n",
       "      <td>sad</td>\n",
       "      <td>m</td>\n",
       "      <td>26.0</td>\n",
       "      <td>asvp-esd</td>\n",
       "    </tr>\n",
       "    <tr>\n",
       "      <th>freq</th>\n",
       "      <td>1180</td>\n",
       "      <td>1615</td>\n",
       "      <td>162.0</td>\n",
       "      <td>1339</td>\n",
       "    </tr>\n",
       "  </tbody>\n",
       "</table>\n",
       "</div>"
      ],
      "text/plain": [
       "       state gender    age    source\n",
       "count   3688   1796  457.0      3688\n",
       "unique    19      2    5.0         5\n",
       "top      sad      m   26.0  asvp-esd\n",
       "freq    1180   1615  162.0      1339"
      ]
     },
     "execution_count": 66,
     "metadata": {},
     "output_type": "execute_result"
    }
   ],
   "source": [
    "('string values')\n",
    "df.describe(include='O')\n",
    "\n",
    "print('category values')\n",
    "df.describe(include='category')"
   ]
  },
  {
   "cell_type": "markdown",
   "metadata": {},
   "source": [
    "### 상태에 따른 파일의 개수를 알아본다.\n"
   ]
  },
  {
   "cell_type": "code",
   "execution_count": null,
   "metadata": {},
   "outputs": [
    {
     "name": "stdout",
     "output_type": "stream",
     "text": [
      "state 에 따른 파일의 개수와 비율\n",
      "sad            state exists in 32.00% of  1180 files.\n",
      "hungry         state exists in 18.38% of   678 files.\n",
      "hug            state exists in 08.54% of   315 files.\n",
      "awake          state exists in 07.59% of   280 files.\n",
      "sleepy         state exists in 07.51% of   277 files.\n",
      "uncomfortable  state exists in 07.21% of   266 files.\n",
      "diaper         state exists in 06.72% of   248 files.\n",
      "happy          state exists in 05.91% of   218 files.\n",
      "silence        state exists in 02.77% of   102 files.\n",
      "calm           state exists in 00.81% of    30 files.\n",
      "tired          state exists in 00.65% of    24 files.\n",
      "discomfort     state exists in 00.54% of    20 files.\n",
      "belly_pain     state exists in 00.43% of    16 files.\n",
      "fearful        state exists in 00.27% of    10 files.\n",
      "burping        state exists in 00.22% of     8 files.\n",
      "ch             state exists in 00.19% of     7 files.\n",
      "bored          state exists in 00.16% of     6 files.\n",
      "pain           state exists in 00.05% of     2 files.\n",
      "disgust        state exists in 00.03% of     1 files.\n"
     ]
    },
    {
     "data": {
      "image/png": "[encoded data removed]",
      "text/plain": [
       "<Figure size 1440x432 with 1 Axes>"
      ]
     },
     "metadata": {
      "needs_background": "light"
     },
     "output_type": "display_data"
    }
   ],
   "source": [
    "def print_category_info(category: str, sub=None):\n",
    "    print(f\"{category} 에 따른 파일의 개수와 비율\")\n",
    "    value_counts = df[category].value_counts()\n",
    "    keys = value_counts.index.tolist()\n",
    "    counts = value_counts.values.tolist()\n",
    "    rates = list(df[category].value_counts(normalize=True).values)\n",
    "\n",
    "    for i in range(len(keys)):\n",
    "        print(\n",
    "            f\"{keys[i]:14s} state exists in {rates[i]*100:05.2f}% of {counts[i]:5d} files.\")\n",
    "\n",
    "    fig, ax = plt.subplots(figsize=(20, 6))\n",
    "    sns.countplot(y=category,\n",
    "                  data=df,\n",
    "                  order=keys,\n",
    "                  hue=sub,\n",
    "                  dodge=False)\n",
    "\n",
    "\n",
    "print_category_info('state')"
   ]
  },
  {
   "cell_type": "markdown",
   "metadata": {},
   "source": [
    "### 출처에 따른 파일의 개수를 알아본다.\n"
   ]
  },
  {
   "cell_type": "code",
   "execution_count": null,
   "metadata": {},
   "outputs": [
    {
     "name": "stdout",
     "output_type": "stream",
     "text": [
      "source 에 따른 파일의 개수와 비율\n",
      "asvp-esd       state exists in 36.31% of  1339 files.\n",
      "iFLYTEK        state exists in 24.89% of   918 files.\n",
      "wojiaoguodekai state exists in 23.48% of   866 files.\n",
      "donate_a_cry   state exists in 12.39% of   457 files.\n",
      "giulbia        state exists in 02.93% of   108 files.\n"
     ]
    },
    {
     "data": {
      "image/png": "[encoded data removed]",
      "text/plain": [
       "<Figure size 1440x432 with 1 Axes>"
      ]
     },
     "metadata": {
      "needs_background": "light"
     },
     "output_type": "display_data"
    }
   ],
   "source": [
    "print_category_info('source', sub='state')"
   ]
  },
  {
   "cell_type": "code",
   "execution_count": null,
   "metadata": {},
   "outputs": [
    {
     "name": "stdout",
     "output_type": "stream",
     "text": [
      "NULL value counts: 1892\n",
      "\n",
      "Female exists in 10.08% of  181 files.\n",
      "Male   exists in 89.92% of 1615 files.\n"
     ]
    },
    {
     "data": {
      "text/plain": [
       "<Axes: xlabel='count', ylabel='gender'>"
      ]
     },
     "execution_count": 69,
     "metadata": {},
     "output_type": "execute_result"
    },
    {
     "data": {
      "image/png": "[encoded data removed]",
      "text/plain": [
       "<Figure size 432x288 with 1 Axes>"
      ]
     },
     "metadata": {
      "needs_background": "light"
     },
     "output_type": "display_data"
    }
   ],
   "source": [
    "print(f\"NULL value counts: {df.gender.isna().sum()}\\n\")\n",
    "\n",
    "# 남성 자료가 많다.\n",
    "gender_count = df.gender.value_counts().values\n",
    "gender_rate = df.gender.value_counts(normalize=True).values\n",
    "print(\n",
    "    f\"Female exists in {gender_rate[1]*100:05.2f}% of {gender_count[1]:4d} files.\")\n",
    "print(\n",
    "    f\"Male   exists in {gender_rate[0]*100:05.2f}% of {gender_count[0]:4d} files.\")\n",
    "\n",
    "sns.countplot(y='gender', data=df)"
   ]
  },
  {
   "cell_type": "markdown",
   "metadata": {},
   "source": [
    "### 존재하는 음성(wav)의 시간에 따른 비율에 대해 알아보자.\n"
   ]
  },
  {
   "cell_type": "code",
   "execution_count": null,
   "metadata": {},
   "outputs": [
    {
     "data": {
      "text/plain": [
       "<Axes: xlabel='Count', ylabel='duration'>"
      ]
     },
     "execution_count": 70,
     "metadata": {},
     "output_type": "execute_result"
    },
    {
     "data": {
      "image/png": "[encoded data removed]",
      "text/plain": [
       "<Figure size 1008x432 with 1 Axes>"
      ]
     },
     "metadata": {
      "needs_background": "light"
     },
     "output_type": "display_data"
    }
   ],
   "source": [
    "fig, ax = plt.subplots(figsize=(14, 6))\n",
    "sns.histplot(y='duration',\n",
    "             binwidth=5,\n",
    "             data=df,\n",
    "             hue='state')"
   ]
  },
  {
   "cell_type": "code",
   "execution_count": null,
   "metadata": {},
   "outputs": [
    {
     "name": "stdout",
     "output_type": "stream",
     "text": [
      "10339\n"
     ]
    },
    {
     "name": "stderr",
     "output_type": "stream",
     "text": [
      "/var/folders/10/9_p98m6j42n84y4wmf_k0krc0000gn/T/ipykernel_97371/2289354787.py:14: FutureWarning: \n",
      "\n",
      "The `ci` parameter is deprecated. Use `errorbar=None` for the same effect.\n",
      "\n",
      "  sns.barplot(y='state', x='num_clips', data=df2, ci=None, order=df2.state.values)\n"
     ]
    },
    {
     "data": {
      "image/png": "[encoded data removed]",
      "text/plain": [
       "<Figure size 1008x432 with 1 Axes>"
      ]
     },
     "metadata": {
      "needs_background": "light"
     },
     "output_type": "display_data"
    }
   ],
   "source": [
    "# Calculate the number of clips for each state\n",
    "df2 = df[['duration', 'state']].groupby('state').sum()\n",
    "df2 = df2.reset_index()\n",
    "\n",
    "df2['num_clips'] = df2['duration'].apply(lambda x: math.ceil(x / 4))\n",
    "df2 = df2.sort_values(by='num_clips', ascending=False)\n",
    "\n",
    "print(df2['num_clips'].sum())\n",
    "\n",
    "# Create the seaborn plot\n",
    "fig, ax = plt.subplots(figsize=(14, 6))\n",
    "sns.barplot(y='state', x='num_clips', data=df2,\n",
    "            ci=None, order=df2.state.values)\n",
    "\n",
    "# Add labels and title\n",
    "plt.xlabel('Number of Clips')\n",
    "plt.ylabel('State')\n",
    "plt.title('Number of Audio Clips Generated for Each State (5-Second Intervals)')\n",
    "\n",
    "# Show the plot\n",
    "plt.show()"
   ]
  },
  {
   "cell_type": "code",
   "execution_count": null,
   "metadata": {},
   "outputs": [
    {
     "data": {
      "text/plain": [
       "<Axes: xlabel='count', ylabel='duration'>"
      ]
     },
     "execution_count": 72,
     "metadata": {},
     "output_type": "execute_result"
    },
    {
     "data": {
      "image/png": "[encoded data removed]",
      "text/plain": [
       "<Figure size 1008x720 with 1 Axes>"
      ]
     },
     "metadata": {
      "needs_background": "light"
     },
     "output_type": "display_data"
    }
   ],
   "source": [
    "# 소수점 내림을 통해 더 자세히 알아보자\n",
    "\n",
    "fig, ax = plt.subplots(figsize=(14, 10))\n",
    "sns.countplot(y='duration',\n",
    "              data=pd.DataFrame(df['duration'].apply(np.ceil)),\n",
    "              width=0.5)"
   ]
  }
 ],
 "metadata": {
  "kernelspec": {
   "display_name": "Python 3",
   "language": "python",
   "name": "python3"
  },
  "language_info": {
   "codemirror_mode": {
    "name": "ipython",
    "version": 3
   },
   "file_extension": ".py",
   "mimetype": "text/x-python",
   "name": "python",
   "nbconvert_exporter": "python",
   "pygments_lexer": "ipython3",
   "version": "3.9.0"
  },
  "orig_nbformat": 4
 },
 "nbformat": 4,
 "nbformat_minor": 2
}
